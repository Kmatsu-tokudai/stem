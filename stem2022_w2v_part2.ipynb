{
  "nbformat": 4,
  "nbformat_minor": 0,
  "metadata": {
    "colab": {
      "provenance": [],
      "collapsed_sections": []
    },
    "kernelspec": {
      "name": "python3",
      "display_name": "Python 3"
    },
    "language_info": {
      "name": "python"
    }
  },
  "cells": [
    {
      "cell_type": "code",
      "execution_count": null,
      "metadata": {
        "id": "Un6JI184NrMb"
      },
      "outputs": [],
      "source": [
        "# 学習済みのベクトルデータの準備\n",
        "import gdown\n",
        "if not os.path.exists('/content/data'):\n",
        "    os.mkdir('/content/data')\n",
        "\n",
        "url = 'https://drive.google.com/uc?id=1BwRe4FnPi26qzpUZ1r98x9PVkWLaA1d6'\n",
        "gdown.download(url, './data/stem_vec.tar.gz', quiet=False)\n",
        "!tar zxvf /content/data/stem_vec.tar.gz\n"
      ]
    },
    {
      "cell_type": "code",
      "source": [
        "# 類義語を検索してみる\n",
        "import gensim\n",
        "import warnings\n",
        "from gensim.models import Word2Vec\n",
        "\n",
        "if not os.path.exists('/content/stem_vec/word2vec.gensim.egotw.model'):\n",
        "    raise ValueError(\"ERROR: 学習済みword2vecモデルが存在しません。\")\n",
        "\n",
        "# 学習済みWord2vecを読込\n",
        "wv = Word2Vec.load(\"/content/stem_vec/word2vec.gensim.egotw.model\")\n",
        "\n",
        "# 検索\n",
        "input_word = '学生'\n",
        "if not input_word in wv:\n",
        "    print(\"Input word [%s] is not included in the model\" % input_word)\n",
        "else:\n",
        "    results = wv.most_similar(positive=[input_word])\n",
        "    for result in results:\n",
        "        print(result)"
      ],
      "metadata": {
        "id": "Ol8PPnYmSuyj"
      },
      "execution_count": null,
      "outputs": []
    },
    {
      "cell_type": "code",
      "source": [
        "# word2vecの学習を追加で行う\n",
        "\n",
        "# 形態素解析器MeCabのラッパーライブラリfugashiをインストール\n",
        "!pip install fugashi[unidic-lite]\n",
        "from fugashi import Tagger\n",
        "\n",
        "txt = '私は徳島大学の学生です。'\n",
        "\n",
        "tagger = Tagger('-Owakati')\n",
        "\n",
        "# 形態素解析する関数\n",
        "def wakatigaki(txt):\n",
        "    words = []\n",
        "    wakati = tagger.parse(txt)\n",
        "    for w in wakati.split(' '):\n",
        "        words.append(w)\n",
        "    return words\n",
        "\n",
        "for w in wakatigaki(txt):\n",
        "    print(w)"
      ],
      "metadata": {
        "id": "E2wMtcuCTmiz"
      },
      "execution_count": null,
      "outputs": []
    },
    {
      "cell_type": "code",
      "source": [
        "# コーパスの準備\n",
        "# テキストデータ(livedoor news corpus)をMeCab(fugashi)で分かち書き処理\n",
        "!wget https://www.rondhuit.com/download/ldcc-20140209.tar.gz\n",
        "!tar zxvf ldcc-20140209.tar.gz\n",
        "# テキストを1つのファイルにまとめる(すべてのファイルで3行目以降が本文)\n",
        "import glob\n",
        "wf = open('./all.txt', 'w')\n",
        "for dir in glob.glob('/content/text/*'):\n",
        "    for path in glob.glob(f'{dir}/*.txt'):\n",
        "        l = 0\n",
        "        for line in open(path):\n",
        "            line = line.rstrip()\n",
        "            if line == '':\n",
        "                continue\n",
        "\n",
        "            l += 1\n",
        "            if l >= 3:\n",
        "                wf.write(' '.join(wakatigaki(line)) + '\\n')\n",
        "wf.close\n"
      ],
      "metadata": {
        "id": "eleV1u1RUt3n"
      },
      "execution_count": null,
      "outputs": []
    },
    {
      "cell_type": "code",
      "source": [
        "# livedoor news corpusの分かち書きテキストを\n",
        "# 追加で学習させる\n",
        "from gensim.models import word2vec\n",
        "corpus = '/content/all.txt'\n",
        "newmodel = '/content/stem_vec/w2v.new.livedoor.model'\n",
        "sentences = word2vec.Text8Corpus(corpus)\n",
        "\n",
        "model = word2vec.Word2Vec.load(\"/content/stem_vec/word2vec.gensim.egotw.model\")\n",
        "model.build_vocab(sentences, update=True)\n",
        "model.train(sentences, total_examples=model.corpus_count, epochs=10)\n",
        "model.save(newmodel)"
      ],
      "metadata": {
        "id": "95Sv6PCWWsI7"
      },
      "execution_count": null,
      "outputs": []
    },
    {
      "cell_type": "code",
      "source": [
        "# 青空文庫コーパスを追加学習する\n",
        "#\n",
        "\n",
        "url = 'https://drive.google.com/uc?id=1C0vS_Z7yojtblbg2YaRULv6Zh2Q1FxGz'\n",
        "gdown.download(url, './data/author_novel.zip', quiet=False)\n",
        "!unzip /content/data/author_novel.zip\n",
        "\n",
        "wf = open('./all_aozora.txt', 'w')\n",
        "for path in glob.glob('./author_novel/*'):\n",
        "    for line in open(path):\n",
        "        line = line.rstrip()\n",
        "        if line == '':\n",
        "            continue\n",
        "        wf.write(' '.join(wakatigaki(line)) + '\\n')\n",
        "wf.close"
      ],
      "metadata": {
        "id": "xHaeUxPRZ1oA"
      },
      "execution_count": null,
      "outputs": []
    },
    {
      "cell_type": "code",
      "source": [
        "# 青空文庫コーパスの分かち書きテキストを\n",
        "# 追加で学習させる\n",
        "from gensim.models import word2vec\n",
        "corpus = '/content/all_aozora.txt'\n",
        "newmodel_aozora = '/content/stem_vec/w2v.new.aozora.model'\n",
        "sentences = word2vec.Text8Corpus(corpus)\n",
        "\n",
        "model = word2vec.Word2Vec.load(\"/content/stem_vec/word2vec.gensim.egotw.model\")\n",
        "model.build_vocab(sentences, update=True)\n",
        "model.train(sentences, total_examples=model.corpus_count, epochs=10)\n",
        "model.save(newmodel_aozora)"
      ],
      "metadata": {
        "id": "GNlMbIEgbQWr"
      },
      "execution_count": null,
      "outputs": []
    },
    {
      "cell_type": "code",
      "source": [
        "# 追加学習したWord2vecを読込\n",
        "wvnew = Word2Vec.load(newmodel)\n",
        "\n",
        "# 検索\n",
        "input_word = '学生'\n",
        "if not input_word in wvnew:\n",
        "    print(\"Input word [%s] is not included in the model\" % input_word)\n",
        "else:\n",
        "    results = wvnew.most_similar(positive=[input_word])\n",
        "    for result in results:\n",
        "        print(result)\n",
        "\n",
        "wvnew_aozora = Word2Vec.load(newmodel_aozora)\n",
        "# 検索\n",
        "input_word = '学生'\n",
        "if not input_word in wvnew_aozora:\n",
        "    print(\"Input word [%s] is not included in the model\" % input_word)\n",
        "else:\n",
        "    results = wvnew_aozora.most_similar(positive=[input_word])\n",
        "    for result in results:\n",
        "        print(result)"
      ],
      "metadata": {
        "id": "zDasIP7fYi4g"
      },
      "execution_count": null,
      "outputs": []
    }
  ]
}